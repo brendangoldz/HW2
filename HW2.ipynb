{
 "cells": [
  {
   "cell_type": "code",
   "execution_count": 1,
   "id": "cfe0614c-0a3f-4fdf-8079-3c5c8aabafc1",
   "metadata": {},
   "outputs": [],
   "source": [
    "import numpy as np\n",
    "import matplotlib.pyplot as plt\n",
    "import validator as val\n",
    "\n",
    "from data_handler import DataHandler\n",
    "from log_regression import LogisticalRegression\n",
    "from calculations import Calculations\n",
    "\n",
    "dh = DataHandler(\"spambase.data\")\n",
    "lr = LogisticalRegression()\n",
    "calc = Calculations()"
   ]
  },
  {
   "cell_type": "code",
   "execution_count": 2,
   "id": "36640679-8e98-4273-a1bf-973504599731",
   "metadata": {},
   "outputs": [
    {
     "name": "stdout",
     "output_type": "stream",
     "text": [
      "Accuracy of ZScore=99.99250081512879 %\n"
     ]
    },
    {
     "data": {
      "text/plain": [
       "((3067, 57), (3067, 1), (1533, 57), (1533, 1))"
      ]
     },
     "execution_count": 2,
     "metadata": {},
     "output_type": "execute_result"
    }
   ],
   "source": [
    "# Pull, Split, Score, and SplitXY Data\n",
    "# X is an N row by D column matrix, where N is hte number of observations and D is the number of features.  \n",
    "# Y is an N by 1 column vector.  \n",
    "# W is a D by 1 column vector.\n",
    "data = dh.parse_data_no_header()\n",
    "data = dh.shuffle_data(data)\n",
    "data_train, data_test = dh.split_data(data)\n",
    "tX, tY = dh.getXY(data_train, -1, -1)\n",
    "vX, vY = dh.getXY(data_test, -1, -1)\n",
    "# mean, std = dh.zscores(tX)\n",
    "# accuracy = (true_values == predictions).sum() / N\n",
    "\n",
    "mean, std = dh.zscore_data(tX, tX)\n",
    "test = val.validate_zscore(tX)\n",
    "tX = dh.apply_zscore(mean, std, tX)\n",
    "vX = dh.apply_zscore(mean, std, vX)\n",
    "print(\"Accuracy of ZScore={} %\".format(100-(test == tX).sum()/tX.shape[0]))\n",
    "\n",
    "# vX = dh.zscore_data(tX, vX)\n",
    "tX.shape, tY.shape, vX.shape, vY.shape"
   ]
  },
  {
   "cell_type": "code",
   "execution_count": 3,
   "id": "32948481-a630-41a6-b822-4fb81676ed94",
   "metadata": {},
   "outputs": [],
   "source": [
    "# X is an M row by N column matrix, where M is hte number of observations and N is the number of features.  \n",
    "# Y is an M by 1 column vector.  \n",
    "# W is a N by 1 column vector.\n",
    "m, n = tX.shape\n",
    "w = np.zeros((n, 1))\n",
    "b = 0"
   ]
  },
  {
   "cell_type": "code",
   "execution_count": 4,
   "id": "788f1d1c-36d9-41cc-a17b-a14915ff5d4b",
   "metadata": {},
   "outputs": [
    {
     "name": "stdout",
     "output_type": "stream",
     "text": [
      "TMean Cost after iteration 0: 0.693147\n",
      "VMean Cost after iteration 0: 0.693147\n"
     ]
    },
    {
     "name": "stderr",
     "output_type": "stream",
     "text": [
      "/Users/brendangoldsmith/opt/anaconda3/envs/HW2/lib/python3.10/site-packages/numpy/core/_methods.py:163: VisibleDeprecationWarning: Creating an ndarray from ragged nested sequences (which is a list-or-tuple of lists-or-tuples-or ndarrays with different lengths or shapes) is deprecated. If you meant to do this, you must specify 'dtype=object' when creating the ndarray.\n",
      "  arr = asanyarray(a)\n"
     ]
    },
    {
     "ename": "ValueError",
     "evalue": "could not broadcast input array from shape (3067,57) into shape (3067,)",
     "output_type": "error",
     "traceback": [
      "\u001b[0;31m---------------------------------------------------------------------------\u001b[0m",
      "\u001b[0;31mValueError\u001b[0m                                Traceback (most recent call last)",
      "Input \u001b[0;32mIn [4]\u001b[0m, in \u001b[0;36m<cell line: 2>\u001b[0;34m()\u001b[0m\n\u001b[1;32m      1\u001b[0m \u001b[38;5;66;03m# calculate(self, w, b, tX, tY, vX, vY):\u001b[39;00m\n\u001b[0;32m----> 2\u001b[0m weights, bias, losses \u001b[38;5;241m=\u001b[39m \u001b[43mlr\u001b[49m\u001b[38;5;241;43m.\u001b[39;49m\u001b[43mcalculate\u001b[49m\u001b[43m(\u001b[49m\u001b[43mw\u001b[49m\u001b[43m,\u001b[49m\u001b[43m \u001b[49m\u001b[43mb\u001b[49m\u001b[43m,\u001b[49m\u001b[43m \u001b[49m\u001b[43mtX\u001b[49m\u001b[43m,\u001b[49m\u001b[43m \u001b[49m\u001b[43mtY\u001b[49m\u001b[43m,\u001b[49m\u001b[43m \u001b[49m\u001b[43mvX\u001b[49m\u001b[43m,\u001b[49m\u001b[43m \u001b[49m\u001b[43mvY\u001b[49m\u001b[43m)\u001b[49m\n",
      "File \u001b[0;32m~/Documents/CS613/HW2/HW2/log_regression.py:77\u001b[0m, in \u001b[0;36mLogisticalRegression.calculate\u001b[0;34m(self, w, b, tX, tY, vX, vY)\u001b[0m\n\u001b[1;32m     75\u001b[0m     \u001b[38;5;66;03m# Record the costs\u001b[39;00m\n\u001b[1;32m     76\u001b[0m     \u001b[38;5;28;01mif\u001b[39;00m i \u001b[38;5;241m%\u001b[39m \u001b[38;5;241m100\u001b[39m \u001b[38;5;241m==\u001b[39m \u001b[38;5;241m0\u001b[39m:\n\u001b[0;32m---> 77\u001b[0m         \u001b[38;5;28mprint\u001b[39m(\u001b[38;5;124m\"\u001b[39m\u001b[38;5;124mTMean Cost after iteration \u001b[39m\u001b[38;5;132;01m%i\u001b[39;00m\u001b[38;5;124m: \u001b[39m\u001b[38;5;132;01m%f\u001b[39;00m\u001b[38;5;124m\"\u001b[39m \u001b[38;5;241m%\u001b[39m (i, \u001b[43mnp\u001b[49m\u001b[38;5;241;43m.\u001b[39;49m\u001b[43mmean\u001b[49m\u001b[43m(\u001b[49m\u001b[43mt_costs\u001b[49m\u001b[43m)\u001b[49m))\n\u001b[1;32m     78\u001b[0m         \u001b[38;5;28mprint\u001b[39m(\u001b[38;5;124m\"\u001b[39m\u001b[38;5;124mVMean Cost after iteration \u001b[39m\u001b[38;5;132;01m%i\u001b[39;00m\u001b[38;5;124m: \u001b[39m\u001b[38;5;132;01m%f\u001b[39;00m\u001b[38;5;124m\"\u001b[39m \u001b[38;5;241m%\u001b[39m (i, np\u001b[38;5;241m.\u001b[39mmean(v_cost)))\n\u001b[1;32m     81\u001b[0m losses \u001b[38;5;241m=\u001b[39m {\n\u001b[1;32m     82\u001b[0m     \u001b[38;5;124m\"\u001b[39m\u001b[38;5;124mTR\u001b[39m\u001b[38;5;124m\"\u001b[39m: t_costs,\n\u001b[1;32m     83\u001b[0m     \u001b[38;5;124m\"\u001b[39m\u001b[38;5;124mVAL\u001b[39m\u001b[38;5;124m\"\u001b[39m: v_costs\n\u001b[1;32m     84\u001b[0m }\n",
      "File \u001b[0;32m<__array_function__ internals>:5\u001b[0m, in \u001b[0;36mmean\u001b[0;34m(*args, **kwargs)\u001b[0m\n",
      "File \u001b[0;32m~/opt/anaconda3/envs/HW2/lib/python3.10/site-packages/numpy/core/fromnumeric.py:3440\u001b[0m, in \u001b[0;36mmean\u001b[0;34m(a, axis, dtype, out, keepdims, where)\u001b[0m\n\u001b[1;32m   3437\u001b[0m     \u001b[38;5;28;01melse\u001b[39;00m:\n\u001b[1;32m   3438\u001b[0m         \u001b[38;5;28;01mreturn\u001b[39;00m mean(axis\u001b[38;5;241m=\u001b[39maxis, dtype\u001b[38;5;241m=\u001b[39mdtype, out\u001b[38;5;241m=\u001b[39mout, \u001b[38;5;241m*\u001b[39m\u001b[38;5;241m*\u001b[39mkwargs)\n\u001b[0;32m-> 3440\u001b[0m \u001b[38;5;28;01mreturn\u001b[39;00m \u001b[43m_methods\u001b[49m\u001b[38;5;241;43m.\u001b[39;49m\u001b[43m_mean\u001b[49m\u001b[43m(\u001b[49m\u001b[43ma\u001b[49m\u001b[43m,\u001b[49m\u001b[43m \u001b[49m\u001b[43maxis\u001b[49m\u001b[38;5;241;43m=\u001b[39;49m\u001b[43maxis\u001b[49m\u001b[43m,\u001b[49m\u001b[43m \u001b[49m\u001b[43mdtype\u001b[49m\u001b[38;5;241;43m=\u001b[39;49m\u001b[43mdtype\u001b[49m\u001b[43m,\u001b[49m\n\u001b[1;32m   3441\u001b[0m \u001b[43m                      \u001b[49m\u001b[43mout\u001b[49m\u001b[38;5;241;43m=\u001b[39;49m\u001b[43mout\u001b[49m\u001b[43m,\u001b[49m\u001b[43m \u001b[49m\u001b[38;5;241;43m*\u001b[39;49m\u001b[38;5;241;43m*\u001b[39;49m\u001b[43mkwargs\u001b[49m\u001b[43m)\u001b[49m\n",
      "File \u001b[0;32m~/opt/anaconda3/envs/HW2/lib/python3.10/site-packages/numpy/core/_methods.py:163\u001b[0m, in \u001b[0;36m_mean\u001b[0;34m(a, axis, dtype, out, keepdims, where)\u001b[0m\n\u001b[1;32m    162\u001b[0m \u001b[38;5;28;01mdef\u001b[39;00m \u001b[38;5;21m_mean\u001b[39m(a, axis\u001b[38;5;241m=\u001b[39m\u001b[38;5;28;01mNone\u001b[39;00m, dtype\u001b[38;5;241m=\u001b[39m\u001b[38;5;28;01mNone\u001b[39;00m, out\u001b[38;5;241m=\u001b[39m\u001b[38;5;28;01mNone\u001b[39;00m, keepdims\u001b[38;5;241m=\u001b[39m\u001b[38;5;28;01mFalse\u001b[39;00m, \u001b[38;5;241m*\u001b[39m, where\u001b[38;5;241m=\u001b[39m\u001b[38;5;28;01mTrue\u001b[39;00m):\n\u001b[0;32m--> 163\u001b[0m     arr \u001b[38;5;241m=\u001b[39m \u001b[43masanyarray\u001b[49m\u001b[43m(\u001b[49m\u001b[43ma\u001b[49m\u001b[43m)\u001b[49m\n\u001b[1;32m    165\u001b[0m     is_float16_result \u001b[38;5;241m=\u001b[39m \u001b[38;5;28;01mFalse\u001b[39;00m\n\u001b[1;32m    167\u001b[0m     rcount \u001b[38;5;241m=\u001b[39m _count_reduce_items(arr, axis, keepdims\u001b[38;5;241m=\u001b[39mkeepdims, where\u001b[38;5;241m=\u001b[39mwhere)\n",
      "\u001b[0;31mValueError\u001b[0m: could not broadcast input array from shape (3067,57) into shape (3067,)"
     ]
    }
   ],
   "source": [
    "# calculate(self, w, b, tX, tY, vX, vY):\n",
    "weights, bias, losses = lr.calculate(w, b, tX, tY, vX, vY)"
   ]
  },
  {
   "cell_type": "code",
   "execution_count": null,
   "id": "f31ffaad-4001-4e18-a480-ce33db39dd88",
   "metadata": {},
   "outputs": [],
   "source": [
    "# def prediction(self, w, b, X):\n",
    "tPreds = lr.prediction(weights, bias, tX)\n",
    "vPreds = lr.prediction(weights, bias, vX)\n",
    "\n",
    "print(\"Training Accuracy: {} %\".format(calculations.accuracy(tY, tPreds)))\n",
    "print(\"Training Precision: {} %\".format(calculations.precision(tY, tPreds)))\n",
    "print(\"Validation Accuracy: {} %\".format(calculations.accuracy(vY, vPreds)))\n",
    "print(\"Validation Precision: {} %\".format(calculations.precision(vY, vPreds)))"
   ]
  }
 ],
 "metadata": {
  "kernelspec": {
   "display_name": "Python 3 (ipykernel)",
   "language": "python",
   "name": "python3"
  },
  "language_info": {
   "codemirror_mode": {
    "name": "ipython",
    "version": 3
   },
   "file_extension": ".py",
   "mimetype": "text/x-python",
   "name": "python",
   "nbconvert_exporter": "python",
   "pygments_lexer": "ipython3",
   "version": "3.10.4"
  }
 },
 "nbformat": 4,
 "nbformat_minor": 5
}
