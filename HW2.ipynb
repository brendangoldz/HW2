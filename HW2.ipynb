{
 "cells": [
  {
   "cell_type": "code",
   "execution_count": 1,
   "id": "8e934d34-b519-4ceb-962d-4205a41a4e92",
   "metadata": {},
   "outputs": [],
   "source": [
    "from data_handler import DataHandler\n",
    "from linear_regression import LinearRegression\n",
    "# from log_regression import LogisticalRegression\n",
    "from calculations import Calculations\n",
    "\n",
    "import numpy as np\n",
    "import matplotlib.pyplot as plt\n",
    "\n",
    "ITERATIONS = 2000\n",
    "tr_log_loss = np.array(0)\n",
    "val_log_loss = np.array(0)\n",
    "\n",
    "TERMINATION_VALUE = 2**-16\n",
    "LEARNING_RATE = 0.005"
   ]
  },
  {
   "cell_type": "code",
   "execution_count": 2,
   "id": "cfb73ed9-5baf-4d0b-b046-62b6180b0640",
   "metadata": {},
   "outputs": [
    {
     "data": {
      "text/plain": [
       "(array([[1.000e-01, 2.000e-01, 1.010e+00, ..., 6.690e+02, 1.351e+03,\n",
       "         1.000e+00],\n",
       "        [0.000e+00, 0.000e+00, 0.000e+00, ..., 1.000e+00, 4.000e+00,\n",
       "         0.000e+00],\n",
       "        [0.000e+00, 0.000e+00, 0.000e+00, ..., 4.000e+00, 1.500e+01,\n",
       "         0.000e+00],\n",
       "        ...,\n",
       "        [8.900e-01, 0.000e+00, 0.000e+00, ..., 9.000e+00, 7.600e+01,\n",
       "         0.000e+00],\n",
       "        [0.000e+00, 0.000e+00, 0.000e+00, ..., 1.100e+01, 4.300e+01,\n",
       "         0.000e+00],\n",
       "        [0.000e+00, 0.000e+00, 0.000e+00, ..., 1.500e+01, 5.000e+01,\n",
       "         0.000e+00]], dtype=float32),\n",
       " array([[0.000e+00, 0.000e+00, 0.000e+00, ..., 1.000e+01, 9.700e+01,\n",
       "         0.000e+00],\n",
       "        [0.000e+00, 0.000e+00, 1.100e+00, ..., 7.900e+01, 3.160e+02,\n",
       "         0.000e+00],\n",
       "        [0.000e+00, 0.000e+00, 0.000e+00, ..., 2.000e+00, 1.600e+01,\n",
       "         0.000e+00],\n",
       "        ...,\n",
       "        [4.300e-01, 4.000e-01, 3.700e-01, ..., 1.780e+02, 3.303e+03,\n",
       "         1.000e+00],\n",
       "        [0.000e+00, 0.000e+00, 0.000e+00, ..., 1.200e+01, 1.190e+02,\n",
       "         0.000e+00],\n",
       "        [0.000e+00, 0.000e+00, 0.000e+00, ..., 5.000e+00, 9.000e+00,\n",
       "         0.000e+00]], dtype=float32))"
      ]
     },
     "execution_count": 2,
     "metadata": {},
     "output_type": "execute_result"
    }
   ],
   "source": [
    "calculator = Calculations()\n",
    "dh = DataHandler(\"spambase.data\")\n",
    "data = dh.parse_data_no_header()\n",
    "data\n",
    "data = dh.shuffle_data(data)\n",
    "data_train, data_validation = dh.split_data(data)\n",
    "data_train, data_validation"
   ]
  },
  {
   "cell_type": "code",
   "execution_count": 3,
   "id": "01fc5f61-0dac-4499-a7d3-4ed78f98ea3d",
   "metadata": {
    "tags": []
   },
   "outputs": [
    {
     "data": {
      "text/plain": [
       "((3067, 56), (3067, 1))"
      ]
     },
     "execution_count": 3,
     "metadata": {},
     "output_type": "execute_result"
    }
   ],
   "source": [
    "training_data_x, training_data_y_1 = dh.getXY(\n",
    "            data_train, -56, 57)\n",
    "training_data_y = training_data_y_1.reshape((training_data_x.shape[0], -1))\n",
    "mean, std = dh.zscores(training_data_x)\n",
    "training_data_x = dh.zscore_data(mean, std, training_data_x)\n",
    "\n",
    "training_data_x.shape, training_data_y.shape"
   ]
  },
  {
   "cell_type": "code",
   "execution_count": 4,
   "id": "ddd05a0f-9564-49a7-b23b-7c9730d2b84e",
   "metadata": {},
   "outputs": [
    {
     "data": {
      "text/plain": [
       "((3067, 56), (3067, 1))"
      ]
     },
     "execution_count": 4,
     "metadata": {},
     "output_type": "execute_result"
    }
   ],
   "source": [
    "validation_data_x, validation_data_y = dh.getXY(\n",
    "            data_train, -56, 57)\n",
    "validation_data_y = validation_data_y.reshape((validation_data_x.shape[0], -1))\n",
    "validation_data_x = dh.zscore_data(mean, std, validation_data_x)\n",
    "validation_data_x.shape, validation_data_y.shape"
   ]
  },
  {
   "cell_type": "code",
   "execution_count": 87,
   "id": "5a16bf88-a16f-48d9-b8b1-793aed997466",
   "metadata": {},
   "outputs": [],
   "source": [
    "# REDO\n",
    "def compute_weights(X, b, Y, Y_):\n",
    "    # dw = np.matmul(X, np.transpose(A - Y)) * (1.0/m)\n",
    "    # dw = (1/m)*np.dot(X.T, (y_hat - y))\n",
    "    m = X.shape[0]\n",
    "    diff = Y_ - Y\n",
    "    # return (1/m)*(np.dot(X.T, diff))\n",
    "    return np.matmul(X.T, diff) * (1.0/m)\n",
    "\n",
    "def train_model(w,b,X,Y):\n",
    "    m, n = X.shape\n",
    "    w = w.reshape(m, 1)\n",
    "    print(\"Pre Train Weight Shape {}\".format(w.shape))\n",
    "    # w = w.reshape(X.shape[0], -1)\n",
    "    # P = prediction_2(sigmoid(wx_b(w,X,b), b), b)\n",
    "    P = prediction(w, X, b)\n",
    "    dw = compute_weights(X, b, Y, P)\n",
    "    db = compute_bias(P, Y)\n",
    "    print(\"Post Train Weight Shape {}\".format(w.shape))\n",
    "    return dw, db, P\n",
    "\n",
    "# Also interpreted as Y_hat\n",
    "def sigmoid(fxn, b):\n",
    "    return (1/(1+(np.exp(-fxn))))\n",
    "\n",
    "def wx_b(w, X, b):\n",
    "    return np.matmul(w.T,X)+b\n",
    "\n",
    "def compute_bias(Y_hat, Y):\n",
    "    return np.mean(Y_hat - Y)\n",
    "\n",
    "def compute_log_loss(Y, P):\n",
    "    p1 = np.multiply(Y, np.log(P, where=(P>0)))\n",
    "    p2 = 1 - Y\n",
    "    p3 = np.log(1.0-P, where=(1-P > 0))\n",
    "    cost = (-1.0) * np.mean(p1 + np.multiply(1.0-Y, p3), axis=1)\n",
    "    return np.squeeze(cost)\n",
    "\n",
    "def prediction_2(wx_b_in, b):\n",
    "    # print(w)\n",
    "    # w = w.reshape(x.shape[0], -1)\n",
    "    P_ = sigmoid(wx_b_in, b)\n",
    "    m = P_.shape[1]\n",
    "    # Y_prediction = np.zeros((1,m))\n",
    "    Y_preds = np.zeros((1, m))\n",
    "    # print(m)\n",
    "    for k in range(m-1):\n",
    "        if P[0, k] > 0.5:\n",
    "            Y_preds[0, k] = 1\n",
    "        else:\n",
    "            Y_preds[0, k] = 0\n",
    "    return Y_preds\n",
    "\n",
    "def prediction(w, x, b):\n",
    "    # print(w)\n",
    "    w = w.reshape(x.shape[0], -1)\n",
    "    P_ = sigmoid(wx_b(w, x, b), b)\n",
    "    m = P_.shape[1]\n",
    "    Y_prediction = np.zeros((1,m))\n",
    "    Y_preds = np.zeros((1, m), dtype='f')\n",
    "    # print(m)\n",
    "    for k in range(m-1):\n",
    "        if P[0, k] > 0.5:\n",
    "            Y_preds[0, k] = 1\n",
    "        else:\n",
    "            Y_preds[0, k] = 0\n",
    "    return Y_preds"
   ]
  },
  {
   "cell_type": "code",
   "execution_count": 85,
   "id": "f38abfab-762c-4704-b09e-00d7703b99b5",
   "metadata": {
    "tags": []
   },
   "outputs": [
    {
     "name": "stdout",
     "output_type": "stream",
     "text": [
      "Pre Train Weight Shape (3067, 1)\n"
     ]
    },
    {
     "ename": "ValueError",
     "evalue": "matmul: Input operand 1 has a mismatch in its core dimension 0, with gufunc signature (n?,k),(k,m?)->(n?,m?) (size 3067 is different from 56)",
     "output_type": "error",
     "traceback": [
      "\u001b[0;31m---------------------------------------------------------------------------\u001b[0m",
      "\u001b[0;31mValueError\u001b[0m                                Traceback (most recent call last)",
      "Input \u001b[0;32mIn [85]\u001b[0m, in \u001b[0;36m<cell line: 16>\u001b[0;34m()\u001b[0m\n\u001b[1;32m     15\u001b[0m \u001b[38;5;66;03m#Log Regression Calculation\u001b[39;00m\n\u001b[1;32m     16\u001b[0m \u001b[38;5;28;01mfor\u001b[39;00m i \u001b[38;5;129;01min\u001b[39;00m \u001b[38;5;28mrange\u001b[39m(ITERATIONS):\n\u001b[1;32m     17\u001b[0m     \u001b[38;5;66;03m# Returns in order:\u001b[39;00m\n\u001b[1;32m     18\u001b[0m     \u001b[38;5;66;03m## Gradient Descent Weight\u001b[39;00m\n\u001b[1;32m     19\u001b[0m     \u001b[38;5;66;03m## Gradient Descent Bias\u001b[39;00m\n\u001b[1;32m     20\u001b[0m     \u001b[38;5;66;03m## Gradient Descent Probabilities/Y_hat\u001b[39;00m\n\u001b[0;32m---> 21\u001b[0m     dw, db, P \u001b[38;5;241m=\u001b[39m \u001b[43mtrain_model\u001b[49m\u001b[43m(\u001b[49m\u001b[43mw\u001b[49m\u001b[43m,\u001b[49m\u001b[43m \u001b[49m\u001b[43mb\u001b[49m\u001b[43m,\u001b[49m\u001b[43m \u001b[49m\u001b[43mtX\u001b[49m\u001b[43m,\u001b[49m\u001b[43m \u001b[49m\u001b[43mtY\u001b[49m\u001b[43m)\u001b[49m\n\u001b[1;32m     23\u001b[0m     \u001b[38;5;66;03m# Updating the parameters.\u001b[39;00m\n\u001b[1;32m     24\u001b[0m     \u001b[38;5;28mprint\u001b[39m(w\u001b[38;5;241m.\u001b[39mshape)\n",
      "Input \u001b[0;32mIn [84]\u001b[0m, in \u001b[0;36mtrain_model\u001b[0;34m(w, b, X, Y)\u001b[0m\n\u001b[1;32m     15\u001b[0m \u001b[38;5;66;03m# w = w.reshape(X.shape[0], -1)\u001b[39;00m\n\u001b[1;32m     16\u001b[0m \u001b[38;5;66;03m# P = prediction_2(sigmoid(wx_b(w,X,b), b), b)\u001b[39;00m\n\u001b[1;32m     17\u001b[0m P \u001b[38;5;241m=\u001b[39m prediction(w, X, b)\n\u001b[0;32m---> 18\u001b[0m dw \u001b[38;5;241m=\u001b[39m \u001b[43mcompute_weights\u001b[49m\u001b[43m(\u001b[49m\u001b[43mX\u001b[49m\u001b[43m,\u001b[49m\u001b[43m \u001b[49m\u001b[43mb\u001b[49m\u001b[43m,\u001b[49m\u001b[43m \u001b[49m\u001b[43mY\u001b[49m\u001b[43m,\u001b[49m\u001b[43m \u001b[49m\u001b[43mP\u001b[49m\u001b[43m)\u001b[49m\n\u001b[1;32m     19\u001b[0m db \u001b[38;5;241m=\u001b[39m compute_bias(P, Y)\n\u001b[1;32m     20\u001b[0m \u001b[38;5;28mprint\u001b[39m(\u001b[38;5;124m\"\u001b[39m\u001b[38;5;124mPost Train Weight Shape \u001b[39m\u001b[38;5;132;01m{}\u001b[39;00m\u001b[38;5;124m\"\u001b[39m\u001b[38;5;241m.\u001b[39mformat(w\u001b[38;5;241m.\u001b[39mshape))\n",
      "Input \u001b[0;32mIn [84]\u001b[0m, in \u001b[0;36mcompute_weights\u001b[0;34m(X, b, Y, Y_)\u001b[0m\n\u001b[1;32m      7\u001b[0m diff \u001b[38;5;241m=\u001b[39m Y_ \u001b[38;5;241m-\u001b[39m Y\n\u001b[1;32m      8\u001b[0m \u001b[38;5;66;03m# return (1/m)*(np.dot(X.T, diff))\u001b[39;00m\n\u001b[0;32m----> 9\u001b[0m \u001b[38;5;28;01mreturn\u001b[39;00m \u001b[43mnp\u001b[49m\u001b[38;5;241;43m.\u001b[39;49m\u001b[43mmatmul\u001b[49m\u001b[43m(\u001b[49m\u001b[43mX\u001b[49m\u001b[43m,\u001b[49m\u001b[43m \u001b[49m\u001b[43mdiff\u001b[49m\u001b[43m)\u001b[49m \u001b[38;5;241m*\u001b[39m (\u001b[38;5;241m1.0\u001b[39m\u001b[38;5;241m/\u001b[39mm)\n",
      "\u001b[0;31mValueError\u001b[0m: matmul: Input operand 1 has a mismatch in its core dimension 0, with gufunc signature (n?,k),(k,m?)->(n?,m?) (size 3067 is different from 56)"
     ]
    }
   ],
   "source": [
    "# %%time\n",
    "\n",
    "assert(training_data_x.shape[0] == training_data_y.shape[0])\n",
    "m, n = training_data_x.shape\n",
    "tr_costs = []\n",
    "val_costs = []\n",
    "w = np.zeros((m,1))\n",
    "b = 0\n",
    "# Reshaping y.\n",
    "tX = training_data_x\n",
    "tY = training_data_y\n",
    "vX = validation_data_x\n",
    "vY = validation_data_y\n",
    "\n",
    "#Log Regression Calculation\n",
    "for i in range(ITERATIONS):\n",
    "    # Returns in order:\n",
    "    ## Gradient Descent Weight\n",
    "    ## Gradient Descent Bias\n",
    "    ## Gradient Descent Probabilities/Y_hat\n",
    "    dw, db, P = train_model(w, b, tX, tY)\n",
    "\n",
    "    # Updating the parameters.\n",
    "    print(w.shape)\n",
    "    print(dw.shape)\n",
    "    \n",
    "    w -= (w-LEARNING_RATE)*dw\n",
    "    b -= (b-LEARNING_RATE)*db\n",
    "    \n",
    "    tr_cost = compute_log_loss(tY, P)\n",
    "    val_cost = compute_log_loss(vY, P)\n",
    "    \n",
    "    tr_costs.append(tr_cost)\n",
    "    val_costs.append(val_cost)\n",
    "\n",
    "    # print(\"Weight after iteration %i: \" % (i), np.array(w))\n",
    "    # print(\"Bias after iteration %i: %f\" % (i, b))\n",
    "\n",
    "    # Print costs when changed\n",
    "    if i % 100 == 0:\n",
    "        print(\"Training Mean Cost after iteration %i: %f\" % (i, np.mean(tr_costs)))\n",
    "        print(\"Validation Mean Cost after iteration %i: %f\" % (i, np.mean(val_costs)))\n",
    "        print(\"Weight after iteration %i: \" % (i), np.array(w))\n",
    "        print(\"Bias after iteration %i: %f\" % (i, b))\n",
    "\n",
    "    if np.mean(val_costs) < TERMINATION_VALUE:\n",
    "        print(\"Termination Condition Hit, Exiting {}\".format(np.mean(tr_costs)))\n",
    "        break;"
   ]
  },
  {
   "cell_type": "code",
   "execution_count": 12,
   "id": "eef9b113-1e1f-4df4-9d2c-af85ccd21354",
   "metadata": {
    "tags": []
   },
   "outputs": [
    {
     "name": "stdout",
     "output_type": "stream",
     "text": [
      "[[ 0.03233591  0.00530981  0.00530981 ...  0.00530981  0.00530981\n",
      "   0.00530981]\n",
      " [-0.03650298  0.02556974  0.02556974 ...  0.02556974  0.02556974\n",
      "   0.02556974]\n",
      " [-0.03362773  0.02369344  0.02369344 ...  0.02369344  0.02369344\n",
      "   0.02369344]\n",
      " ...\n",
      " [-0.03295628  0.02375111  0.02375111 ...  0.02375111  0.02375111\n",
      "   0.02375111]\n",
      " [-0.03331827  0.0238517   0.0238517  ...  0.0238517   0.0238517\n",
      "   0.0238517 ]\n",
      " [-0.03353763  0.02416743  0.02416743 ...  0.02416743  0.02416743\n",
      "   0.02416743]] -0.007507403135105862\n",
      "[[1. 1. 1. 1. 1. 1. 1. 1. 1. 1. 1. 1. 1. 1. 1. 1. 1. 1. 1. 1. 1. 1. 1. 1.\n",
      "  1. 1. 1. 1. 1. 1. 1. 1. 1. 1. 1. 1. 1. 1. 1. 1. 1. 1. 1. 1. 1. 1. 1. 1.\n",
      "  1. 1. 1. 1. 1. 1. 1. 0.]]\n",
      "Training Accuracy 22.779589175089665 %\n",
      "[[1. 1. 1. 1. 1. 1. 1. 1. 1. 1. 1. 1. 1. 1. 1. 1. 1. 1. 1. 1. 1. 1. 1. 1.\n",
      "  1. 1. 1. 1. 1. 1. 1. 1. 1. 1. 1. 1. 1. 1. 1. 1. 1. 1. 1. 1. 1. 1. 1. 1.\n",
      "  1. 1. 1. 1. 1. 1. 1. 0.]]\n",
      "Validation Accuracy 22.779589175089665 %\n"
     ]
    },
    {
     "data": {
      "image/png": "[encoded data removed]",
      "text/plain": [
       "<Figure size 432x288 with 1 Axes>"
      ]
     },
     "metadata": {
      "needs_background": "light"
     },
     "output_type": "display_data"
    }
   ],
   "source": [
    "print(w, b)\n",
    "plt.plot(P)\n",
    "train_Y_preds = prediction(w, tX, b)\n",
    "print(train_Y_preds)\n",
    "train_acc = calculator.accuracy(tY, train_Y_preds)\n",
    "print(\"Training Accuracy {} %\".format(train_acc))\n",
    "\n",
    "val_Y_preds = prediction(w, vX, b)\n",
    "print(val_Y_preds)\n",
    "val_acc = calculator.accuracy(vY, val_Y_preds)\n",
    "print(\"Validation Accuracy {} %\".format(val_acc))"
   ]
  },
  {
   "cell_type": "code",
   "execution_count": null,
   "id": "c538b85c-d6c0-46f2-851f-49aafd022a64",
   "metadata": {
    "tags": []
   },
   "outputs": [],
   "source": [
    "tr_costs = np.squeeze(tr_costs)\n",
    "val_costs = np.squeeze(val_costs)"
   ]
  },
  {
   "cell_type": "code",
   "execution_count": null,
   "id": "9de8a8db-8b91-4181-aa2c-38ff5012c3dd",
   "metadata": {
    "tags": []
   },
   "outputs": [],
   "source": [
    "plt.plot(tr_costs)\n",
    "plt.title(\"Log Regression Costs\")\n",
    "\n",
    "plt.ylabel(\"cost\")\n",
    "plt.xlabel(\"iterations\")"
   ]
  },
  {
   "cell_type": "code",
   "execution_count": null,
   "id": "149ec3a8-ec3d-4e4c-8c58-58e3a281231a",
   "metadata": {
    "tags": []
   },
   "outputs": [],
   "source": [
    "plt.plot(val_costs)\n",
    "plt.title(\"Log Regression Costs\")\n",
    "\n",
    "plt.ylabel(\"cost\")\n",
    "plt.xlabel(\"iterations\")"
   ]
  }
 ],
 "metadata": {
  "kernelspec": {
   "display_name": "Python 3 (ipykernel)",
   "language": "python",
   "name": "python3"
  },
  "language_info": {
   "codemirror_mode": {
    "name": "ipython",
    "version": 3
   },
   "file_extension": ".py",
   "mimetype": "text/x-python",
   "name": "python",
   "nbconvert_exporter": "python",
   "pygments_lexer": "ipython3",
   "version": "3.10.4"
  }
 },
 "nbformat": 4,
 "nbformat_minor": 5
}
