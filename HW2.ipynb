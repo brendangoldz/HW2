{
 "cells": [
  {
   "cell_type": "code",
   "execution_count": 1,
   "id": "cfe0614c-0a3f-4fdf-8079-3c5c8aabafc1",
   "metadata": {},
   "outputs": [],
   "source": [
    "import numpy as np\n",
    "import matplotlib.pyplot as plt\n",
    "import validator as val\n",
    "\n",
    "from data_handler import DataHandler\n",
    "from log_regression import LogisticalRegression\n",
    "from calculations import Calculations\n",
    "\n",
    "dh = DataHandler(\"spambase.data\")\n",
    "lr = LogisticalRegression()\n",
    "calc = Calculations()"
   ]
  },
  {
   "cell_type": "code",
   "execution_count": 2,
   "id": "36640679-8e98-4273-a1bf-973504599731",
   "metadata": {},
   "outputs": [
    {
     "name": "stdout",
     "output_type": "stream",
     "text": [
      "Accuracy of ZScore=99.99250081512879 %\n"
     ]
    },
    {
     "data": {
      "text/plain": [
       "((3067, 57), (3067, 1), (1533, 57), (1533, 1))"
      ]
     },
     "execution_count": 2,
     "metadata": {},
     "output_type": "execute_result"
    }
   ],
   "source": [
    "# Pull, Split, Score, and SplitXY Data\n",
    "# X is an N row by D column matrix, where N is hte number of observations and D is the number of features.  \n",
    "# Y is an N by 1 column vector.  \n",
    "# W is a D by 1 column vector.\n",
    "data = dh.parse_data_no_header()\n",
    "data = dh.shuffle_data(data)\n",
    "data_train, data_test = dh.split_data(data)\n",
    "tX, tY = dh.getXY(data_train, -1, -1)\n",
    "vX, vY = dh.getXY(data_test, -1, -1)\n",
    "# mean, std = dh.zscores(tX)\n",
    "# accuracy = (true_values == predictions).sum() / N\n",
    "\n",
    "mean, std = dh.zscore_data(tX, tX)\n",
    "test = val.validate_zscore(tX)\n",
    "tX = dh.apply_zscore(mean, std, tX)\n",
    "vX = dh.apply_zscore(mean, std, vX)\n",
    "print(\"Accuracy of ZScore={} %\".format(100-(test == tX).sum()/tX.shape[0]))\n",
    "\n",
    "# vX = dh.zscore_data(tX, vX)\n",
    "tX.shape, tY.shape, vX.shape, vY.shape"
   ]
  },
  {
   "cell_type": "code",
   "execution_count": 3,
   "id": "32948481-a630-41a6-b822-4fb81676ed94",
   "metadata": {},
   "outputs": [],
   "source": [
    "# X is an M row by N column matrix, where M is hte number of observations and N is the number of features.  \n",
    "# Y is an M by 1 column vector.  \n",
    "# W is a N by 1 column vector.\n",
    "m, n = tX.shape\n",
    "w = np.zeros((n, 1))\n",
    "b = 0"
   ]
  },
  {
   "cell_type": "code",
   "execution_count": null,
   "id": "788f1d1c-36d9-41cc-a17b-a14915ff5d4b",
   "metadata": {},
   "outputs": [
    {
     "name": "stdout",
     "output_type": "stream",
     "text": [
      "TMean Cost after iteration 0: 0.346574\n",
      "VMean Cost after iteration 0: 0.693147\n",
      "TMean Cost after iteration 100: 0.705460\n",
      "VMean Cost after iteration 100: 0.726053\n"
     ]
    }
   ],
   "source": [
    "# calculate(self, w, b, tX, tY, vX, vY):\n",
    "weights, bias, losses = lr.calculate(w, b, tX, tY, vX, vY)"
   ]
  },
  {
   "cell_type": "code",
   "execution_count": null,
   "id": "f31ffaad-4001-4e18-a480-ce33db39dd88",
   "metadata": {},
   "outputs": [],
   "source": [
    "# def prediction(self, w, b, X):\n",
    "print(tX)\n",
    "tPreds = lr.prediction(weights, bias, tX)\n",
    "vPreds = lr.prediction(weights, bias, vX)\n",
    "\n",
    "print(\"Training Accuracy: {} %\".format(calculations.accuracy(tY, tPreds)))\n",
    "print(\"Training Precision: {} %\".format(calculations.precision(tY, tPreds)))\n",
    "print(\"Validation Accuracy: {} %\".format(calculations.accuracy(vY, vPreds)))\n",
    "print(\"Validation Precision: {} %\".format(calculations.precision(vY, vPreds)))"
   ]
  }
 ],
 "metadata": {
  "kernelspec": {
   "display_name": "Python 3 (ipykernel)",
   "language": "python",
   "name": "python3"
  },
  "language_info": {
   "codemirror_mode": {
    "name": "ipython",
    "version": 3
   },
   "file_extension": ".py",
   "mimetype": "text/x-python",
   "name": "python",
   "nbconvert_exporter": "python",
   "pygments_lexer": "ipython3",
   "version": "3.10.4"
  }
 },
 "nbformat": 4,
 "nbformat_minor": 5
}
