{
 "cells": [
  {
   "cell_type": "code",
   "execution_count": 1,
   "id": "cfe0614c-0a3f-4fdf-8079-3c5c8aabafc1",
   "metadata": {},
   "outputs": [],
   "source": [
    "import numpy as np\n",
    "import matplotlib.pyplot as plt\n",
    "import validator as val\n",
    "\n",
    "from data_handler import DataHandler\n",
    "from log_regression import LogisticalRegression\n",
    "from calculations import Calculations\n",
    "\n",
    "dh = DataHandler(\"spambase.data\")\n",
    "lr = LogisticalRegression()\n",
    "calc = Calculations()"
   ]
  },
  {
   "cell_type": "code",
   "execution_count": 4,
   "id": "36640679-8e98-4273-a1bf-973504599731",
   "metadata": {},
   "outputs": [
    {
     "name": "stdout",
     "output_type": "stream",
     "text": [
      "Accuracy of ZScore=99.99250081512879 %\n"
     ]
    },
    {
     "data": {
      "text/plain": [
       "((3067, 57), (3067, 1), (3067, 1), (1533, 1))"
      ]
     },
     "execution_count": 4,
     "metadata": {},
     "output_type": "execute_result"
    }
   ],
   "source": [
    "# Pull, Split, Score, and SplitXY Data\n",
    "# X is an N row by D column matrix, where N is hte number of observations and D is the number of features.  \n",
    "# Y is an N by 1 column vector.  \n",
    "# W is a D by 1 column vector.\n",
    "data = dh.parse_data_no_header()\n",
    "data = dh.shuffle_data(data)\n",
    "data_train, data_test = dh.split_data(data)\n",
    "tX, tY = dh.getXY(data_train, -1, -1)\n",
    "vX, vY = dh.getXY(data_test, -1, -1)\n",
    "# mean, std = dh.zscores(tX)\n",
    "# accuracy = (true_values == predictions).sum() / N\n",
    "\n",
    "mean, std = dh.zscore_data(tX, tX)\n",
    "test = val.validate_zscore(tX)\n",
    "tX = dh.apply_zscore(mean, std, tX)\n",
    "vX = dh.apply_zscore(mean, std, tY)\n",
    "print(\"Accuracy of ZScore={} %\".format(100-(test == tX).sum()/tX.shape[0]))\n",
    "\n",
    "# vX = dh.zscore_data(tX, vX)\n",
    "tX.shape, tY.shape, vX.shape, vY.shape"
   ]
  },
  {
   "cell_type": "code",
   "execution_count": 5,
   "id": "32948481-a630-41a6-b822-4fb81676ed94",
   "metadata": {},
   "outputs": [],
   "source": [
    "# X is an M row by N column matrix, where M is hte number of observations and N is the number of features.  \n",
    "# Y is an M by 1 column vector.  \n",
    "# W is a N by 1 column vector.\n",
    "m, n = tX.shape\n",
    "w = np.zeros((n, 1))\n",
    "b = 0"
   ]
  },
  {
   "cell_type": "code",
   "execution_count": 6,
   "id": "788f1d1c-36d9-41cc-a17b-a14915ff5d4b",
   "metadata": {},
   "outputs": [
    {
     "ename": "ValueError",
     "evalue": "shapes (3067,1) and (57,1) not aligned: 1 (dim 1) != 57 (dim 0)",
     "output_type": "error",
     "traceback": [
      "\u001b[0;31m---------------------------------------------------------------------------\u001b[0m",
      "\u001b[0;31mValueError\u001b[0m                                Traceback (most recent call last)",
      "Input \u001b[0;32mIn [6]\u001b[0m, in \u001b[0;36m<cell line: 2>\u001b[0;34m()\u001b[0m\n\u001b[1;32m      1\u001b[0m \u001b[38;5;66;03m# calculate(self, w, b, tX, tY, vX, vY):\u001b[39;00m\n\u001b[0;32m----> 2\u001b[0m weights, bias, losses \u001b[38;5;241m=\u001b[39m \u001b[43mlr\u001b[49m\u001b[38;5;241;43m.\u001b[39;49m\u001b[43mcalculate\u001b[49m\u001b[43m(\u001b[49m\u001b[43mw\u001b[49m\u001b[43m,\u001b[49m\u001b[43m \u001b[49m\u001b[43mb\u001b[49m\u001b[43m,\u001b[49m\u001b[43m \u001b[49m\u001b[43mtX\u001b[49m\u001b[43m,\u001b[49m\u001b[43m \u001b[49m\u001b[43mtY\u001b[49m\u001b[43m,\u001b[49m\u001b[43m \u001b[49m\u001b[43mvX\u001b[49m\u001b[43m,\u001b[49m\u001b[43m \u001b[49m\u001b[43mvY\u001b[49m\u001b[43m)\u001b[49m\n\u001b[1;32m      3\u001b[0m weights\u001b[38;5;241m.\u001b[39mshape, bias\u001b[38;5;241m.\u001b[39mshape\n",
      "File \u001b[0;32m~/Documents/CS613/HW2/HW2/log_regression.py:78\u001b[0m, in \u001b[0;36mLogisticalRegression.calculate\u001b[0;34m(self, w, b, tX, tY, vX, vY)\u001b[0m\n\u001b[1;32m     54\u001b[0m         b \u001b[38;5;241m=\u001b[39m b\n\u001b[1;32m     55\u001b[0m         \u001b[38;5;28;01mfor\u001b[39;00m i \u001b[38;5;129;01min\u001b[39;00m \u001b[38;5;28mrange\u001b[39m(\u001b[38;5;28mself\u001b[39m\u001b[38;5;241m.\u001b[39mITERATIONS):            \n\u001b[1;32m     56\u001b[0m \u001b[38;5;66;03m#             Calculate gradient descent for training\u001b[39;00m\n\u001b[1;32m     57\u001b[0m \u001b[38;5;66;03m#             - this is linear model\u001b[39;00m\n\u001b[0;32m   (...)\u001b[0m\n\u001b[1;32m     76\u001b[0m \n\u001b[1;32m     77\u001b[0m \u001b[38;5;66;03m#             Return losses and weights and bias \u001b[39;00m\n\u001b[0;32m---> 78\u001b[0m             v_wxb \u001b[38;5;241m=\u001b[39m \u001b[38;5;28;43mself\u001b[39;49m\u001b[38;5;241;43m.\u001b[39;49m\u001b[43mlinear_mod\u001b[49m\u001b[43m(\u001b[49m\u001b[43mw\u001b[49m\u001b[43m,\u001b[49m\u001b[43m \u001b[49m\u001b[43mvX\u001b[49m\u001b[43m,\u001b[49m\u001b[43m \u001b[49m\u001b[43mb\u001b[49m\u001b[43m)\u001b[49m\n\u001b[1;32m     79\u001b[0m             t_wxb \u001b[38;5;241m=\u001b[39m \u001b[38;5;28mself\u001b[39m\u001b[38;5;241m.\u001b[39mlinear_mod(w, tX, b)\n\u001b[1;32m     80\u001b[0m             weight, beta \u001b[38;5;241m=\u001b[39m \u001b[38;5;28mself\u001b[39m\u001b[38;5;241m.\u001b[39mcompute_weights_bias(w, b, tX, tY, vX, vY)\n",
      "File \u001b[0;32m~/Documents/CS613/HW2/HW2/log_regression.py:14\u001b[0m, in \u001b[0;36mLogisticalRegression.linear_mod\u001b[0;34m(self, w, X, b)\u001b[0m\n\u001b[1;32m     13\u001b[0m \u001b[38;5;28;01mdef\u001b[39;00m \u001b[38;5;21mlinear_mod\u001b[39m(\u001b[38;5;28mself\u001b[39m, w, X, b):\n\u001b[0;32m---> 14\u001b[0m     \u001b[38;5;28;01mreturn\u001b[39;00m \u001b[43mnp\u001b[49m\u001b[38;5;241;43m.\u001b[39;49m\u001b[43mdot\u001b[49m\u001b[43m(\u001b[49m\u001b[43mX\u001b[49m\u001b[43m,\u001b[49m\u001b[43m \u001b[49m\u001b[43mw\u001b[49m\u001b[43m)\u001b[49m \u001b[38;5;241m+\u001b[39m b\n",
      "File \u001b[0;32m<__array_function__ internals>:5\u001b[0m, in \u001b[0;36mdot\u001b[0;34m(*args, **kwargs)\u001b[0m\n",
      "\u001b[0;31mValueError\u001b[0m: shapes (3067,1) and (57,1) not aligned: 1 (dim 1) != 57 (dim 0)"
     ]
    }
   ],
   "source": [
    "# calculate(self, w, b, tX, tY, vX, vY):\n",
    "weights, bias, losses = lr.calculate(w, b, tX, tY, vX, vY)\n",
    "weights.shape, bias.shape"
   ]
  }
 ],
 "metadata": {
  "kernelspec": {
   "display_name": "Python 3 (ipykernel)",
   "language": "python",
   "name": "python3"
  },
  "language_info": {
   "codemirror_mode": {
    "name": "ipython",
    "version": 3
   },
   "file_extension": ".py",
   "mimetype": "text/x-python",
   "name": "python",
   "nbconvert_exporter": "python",
   "pygments_lexer": "ipython3",
   "version": "3.10.4"
  }
 },
 "nbformat": 4,
 "nbformat_minor": 5
}
